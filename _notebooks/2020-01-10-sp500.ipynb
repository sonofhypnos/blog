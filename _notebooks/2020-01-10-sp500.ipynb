{
 "cells": [
  {
   "cell_type": "markdown",
   "metadata": {},
   "source": [
    "# \"Will the SP-500 fall to index X by date Y\"\n",
    "> \"a baseline forecast using python\"\n",
    "\n",
    "- toc: true\n",
    "- branch: master\n",
    "- badges: true\n",
    "- comments: true\n",
    "- author: Tassilo Neubauer\n",
    "- categories: [prediction, python]"
   ]
  },
  {
   "cell_type": "markdown",
   "metadata": {},
   "source": [
    "I occasionally try to make predictions on the [forecasting Site Almanis](https://app.dysruptlabs.com). Some monthly recurring questions there are of the format: By date_X, will the S&P 500 fall below Index_Y? \n",
    "\n",
    "To get a baseline for my predictions I made this notebook. The main reason why I publish this on my blog now is that I want to get better at documenting and explaining the stuff I do.\n",
    "\n",
    "So let's get started! To make this example more concrete we will ask the question: \"Will the S&P 500 go above 3900 by February 1st, 2021?\". Feel free to download the notebook to guide your own predictions.\n",
    "\n",
    "When you want to make predictions, it is a good idea to look for how often something has occurred in the past. When it comes to an index like the S&P 500 it makes sense to make some kind of statistical model to inform your forecast, because this will outperform any forecast you are able to make with your intuition (here is a link to some sources I highly recommend, if you want to learn more about forecasting). \n",
    "\n",
    "In this model we assume the SP500 to be a random walk, which means there is no correlation between the pricechanges betweeen days. This is not entirely true. But is good enough for the rough model we are aiming for here.\n",
    "Since changes in a random walk are independent of each other, the only information that we have about the future index is where the index stands right now. So when we want to answer the question of whether the S&P 500 will exceed a certain index, we will look at the difference between the current index (3824,7) and the index that we want to know the [probability of exceedance](http://ftp.comet.ucar.edu/memory-stick/hydro/basic_int/flood_frequency/navmenu.php_tab_1_page_2.4.0.html) for (3900). We compute this probability by looking at the frequency at which this happened in the past. {% fn 1%}\n",
    "To be precise, I computed the size of the gap between the current index and the boundary index (3900) as a percentage of the absolute index. I then looked at how often such a big gap had been exceeded in the past in the same number of days.\n",
    "\n",
    "\n",
    "This was useful for betting on questions on the betting Platform Almanis. Since the site asks those questions every month, I started to do this little analysis.\n",
    "\n"
   ]
  },
  {
   "cell_type": "markdown",
   "metadata": {},
   "source": [
    "If you want you can download or execute it online with [Google Colab](https://colab.research.google.com/github/sonofhypnos/projects/blob/master/_notebooks/2020-01-10-sp500.ipynb). I downloaded the csv-file for this S&P 500 timeseries from [Yahoo Finance](https://finance.yahoo.com/quote/%5EGSPC/history/)."
   ]
  },
  {
   "cell_type": "code",
   "execution_count": 277,
   "metadata": {},
   "outputs": [],
   "source": [
    "import numpy as np\n",
    "import pandas as pd\n",
    "import matplotlib.pyplot as plt\n",
    "import seaborn as sns\n",
    "import statsmodels.graphics as stg #we are going to use this later on to check our timeseries for autocorrelation\n",
    "import statsmodels.api as sm\n",
    "%matplotlib inline\n",
    "\n",
    "df = pd.read_csv(\"https://raw.githubusercontent.com/sonofhypnos/projects/master/_notebooks/%5EGSPC.csv\")\n"
   ]
  },
  {
   "cell_type": "markdown",
   "metadata": {},
   "source": [
    "So before we can answer our initial question, we take a quick look at our data."
   ]
  },
  {
   "cell_type": "code",
   "execution_count": 252,
   "metadata": {},
   "outputs": [],
   "source": [
    "days_ahead = 15 # the number of days that the S&P has to stay within the boundary\n",
    "boundary = 3900"
   ]
  },
  {
   "cell_type": "code",
   "execution_count": 253,
   "metadata": {},
   "outputs": [
    {
     "data": {
      "text/html": [
       "<div>\n",
       "<style scoped>\n",
       "    .dataframe tbody tr th:only-of-type {\n",
       "        vertical-align: middle;\n",
       "    }\n",
       "\n",
       "    .dataframe tbody tr th {\n",
       "        vertical-align: top;\n",
       "    }\n",
       "\n",
       "    .dataframe thead th {\n",
       "        text-align: right;\n",
       "    }\n",
       "</style>\n",
       "<table border=\"1\" class=\"dataframe\">\n",
       "  <thead>\n",
       "    <tr style=\"text-align: right;\">\n",
       "      <th></th>\n",
       "      <th>Date</th>\n",
       "      <th>Open</th>\n",
       "      <th>High</th>\n",
       "      <th>Low</th>\n",
       "      <th>Close</th>\n",
       "      <th>Adj Close</th>\n",
       "      <th>Volume</th>\n",
       "    </tr>\n",
       "  </thead>\n",
       "  <tbody>\n",
       "    <tr>\n",
       "      <th>0</th>\n",
       "      <td>1927-12-30</td>\n",
       "      <td>17.660000</td>\n",
       "      <td>17.660000</td>\n",
       "      <td>17.660000</td>\n",
       "      <td>17.660000</td>\n",
       "      <td>17.660000</td>\n",
       "      <td>0</td>\n",
       "    </tr>\n",
       "    <tr>\n",
       "      <th>1</th>\n",
       "      <td>1928-01-03</td>\n",
       "      <td>17.760000</td>\n",
       "      <td>17.760000</td>\n",
       "      <td>17.760000</td>\n",
       "      <td>17.760000</td>\n",
       "      <td>17.760000</td>\n",
       "      <td>0</td>\n",
       "    </tr>\n",
       "    <tr>\n",
       "      <th>2</th>\n",
       "      <td>1928-01-04</td>\n",
       "      <td>17.719999</td>\n",
       "      <td>17.719999</td>\n",
       "      <td>17.719999</td>\n",
       "      <td>17.719999</td>\n",
       "      <td>17.719999</td>\n",
       "      <td>0</td>\n",
       "    </tr>\n",
       "    <tr>\n",
       "      <th>3</th>\n",
       "      <td>1928-01-05</td>\n",
       "      <td>17.549999</td>\n",
       "      <td>17.549999</td>\n",
       "      <td>17.549999</td>\n",
       "      <td>17.549999</td>\n",
       "      <td>17.549999</td>\n",
       "      <td>0</td>\n",
       "    </tr>\n",
       "    <tr>\n",
       "      <th>4</th>\n",
       "      <td>1928-01-06</td>\n",
       "      <td>17.660000</td>\n",
       "      <td>17.660000</td>\n",
       "      <td>17.660000</td>\n",
       "      <td>17.660000</td>\n",
       "      <td>17.660000</td>\n",
       "      <td>0</td>\n",
       "    </tr>\n",
       "  </tbody>\n",
       "</table>\n",
       "</div>"
      ],
      "text/plain": [
       "         Date       Open       High        Low      Close  Adj Close  Volume\n",
       "0  1927-12-30  17.660000  17.660000  17.660000  17.660000  17.660000       0\n",
       "1  1928-01-03  17.760000  17.760000  17.760000  17.760000  17.760000       0\n",
       "2  1928-01-04  17.719999  17.719999  17.719999  17.719999  17.719999       0\n",
       "3  1928-01-05  17.549999  17.549999  17.549999  17.549999  17.549999       0\n",
       "4  1928-01-06  17.660000  17.660000  17.660000  17.660000  17.660000       0"
      ]
     },
     "execution_count": 253,
     "metadata": {},
     "output_type": "execute_result"
    }
   ],
   "source": [
    "df.head()"
   ]
  },
  {
   "cell_type": "markdown",
   "metadata": {},
   "source": [
    "As we can see this dataset goes back until 1927 which is pretty great for a free dataset. Another thing to notice here is that we only have data for the S&P on business days. Since this is only supposed to be a rough baseline forecast, we are going to ignore this fact and just pretend that the difference between Friday and Monday will be the same as between Tuesday and Wednesday. But we will still have to keep this fact in mind, so that our future forecast also only includes workdays."
   ]
  },
  {
   "cell_type": "code",
   "execution_count": 254,
   "metadata": {},
   "outputs": [],
   "source": [
    "sp = df.Close\n",
    "sp.index = pd.to_datetime(df.Date)"
   ]
  },
  {
   "cell_type": "code",
   "execution_count": 255,
   "metadata": {},
   "outputs": [
    {
     "data": {
      "text/plain": [
       "Date\n",
       "1927-12-30    17.660000\n",
       "1928-01-03    17.760000\n",
       "1928-01-04    17.719999\n",
       "1928-01-05    17.549999\n",
       "1928-01-06    17.660000\n",
       "Name: Close, dtype: float64"
      ]
     },
     "execution_count": 255,
     "metadata": {},
     "output_type": "execute_result"
    }
   ],
   "source": [
    "sp.head()"
   ]
  },
  {
   "cell_type": "markdown",
   "metadata": {},
   "source": [
    "Let's take a first look at our timeseries"
   ]
  },
  {
   "cell_type": "code",
   "execution_count": 256,
   "metadata": {},
   "outputs": [
    {
     "data": {
      "image/png": "[encoded data removed]",
      "text/plain": [
       "<Figure size 432x288 with 1 Axes>"
      ]
     },
     "metadata": {
      "needs_background": "light"
     },
     "output_type": "display_data"
    }
   ],
   "source": [
    "sns.lineplot(x=sp.index, y=sp.values);"
   ]
  },
  {
   "cell_type": "markdown",
   "metadata": {},
   "source": [
    "As you can see the graph is growing exponentially. This is even more clear on a log scale:"
   ]
  },
  {
   "cell_type": "code",
   "execution_count": 257,
   "metadata": {},
   "outputs": [
    {
     "data": {
      "image/png": "[encoded data removed]",
      "text/plain": [
       "<Figure size 432x288 with 1 Axes>"
      ]
     },
     "metadata": {
      "needs_background": "light"
     },
     "output_type": "display_data"
    }
   ],
   "source": [
    "sns.lineplot(x=sp.index, y=sp.values)\n",
    "plt.yscale(\"log\")"
   ]
  },
  {
   "cell_type": "markdown",
   "metadata": {},
   "source": [
    "We now take a closer look at the correlation in our graph. If our data could indeed be seen as a random walk, then there shouldn't be any correlation between consecutive days and this is indeed what we see:"
   ]
  },
  {
   "cell_type": "code",
   "execution_count": 258,
   "metadata": {},
   "outputs": [
    {
     "data": {
      "image/png": "[encoded data removed]",
      "text/plain": [
       "<Figure size 432x288 with 1 Axes>"
      ]
     },
     "metadata": {
      "needs_background": "light"
     },
     "output_type": "display_data"
    }
   ],
   "source": [
    "stg.tsaplots.plot_acf(sp_shifted[1:])\n",
    "plt.show()"
   ]
  },
  {
   "cell_type": "markdown",
   "metadata": {},
   "source": [
    "So now we define a function to compute the relative difference between different days in the past."
   ]
  },
  {
   "cell_type": "code",
   "execution_count": 259,
   "metadata": {},
   "outputs": [],
   "source": [
    "def relative_shift_n(ts, n):\n",
    "    ts_shift = []\n",
    "    for i in range(1,n+1):\n",
    "        ts_shift.append((ts - ts.shift(periods=i))/ts)\n",
    "    return ts_shift"
   ]
  },
  {
   "cell_type": "markdown",
   "metadata": {},
   "source": [
    "Now we compute the number of workdays ahead for our forecast"
   ]
  },
  {
   "cell_type": "code",
   "execution_count": 272,
   "metadata": {},
   "outputs": [
    {
     "name": "stdout",
     "output_type": "stream",
     "text": [
      "workdays ahead: 10\n"
     ]
    }
   ],
   "source": [
    "current_weekday = sp[-1:].index.weekday[0] + 1\n",
    "days_ahead = 15\n",
    "n = 0\n",
    "\n",
    "for i in range(days_ahead):\n",
    "    if (current_weekday % 7) < 5:\n",
    "        n += 1\n",
    "    current_weekday += 1\n",
    "print(\"workdays ahead:\", n)"
   ]
  },
  {
   "cell_type": "code",
   "execution_count": 273,
   "metadata": {},
   "outputs": [],
   "source": [
    "sp_shift = relative_shift_n(sp, n)\n",
    "shift_index = [str(x) for x in range(1,n+1)]\n",
    "sp_shift = pd.DataFrame.from_dict(dict(zip(shift_index,sp_shift)))\n",
    "sp_shift = sp_shift[n:] #removing NaN entries"
   ]
  },
  {
   "cell_type": "code",
   "execution_count": 237,
   "metadata": {},
   "outputs": [
    {
     "data": {
      "text/html": [
       "<div>\n",
       "<style scoped>\n",
       "    .dataframe tbody tr th:only-of-type {\n",
       "        vertical-align: middle;\n",
       "    }\n",
       "\n",
       "    .dataframe tbody tr th {\n",
       "        vertical-align: top;\n",
       "    }\n",
       "\n",
       "    .dataframe thead th {\n",
       "        text-align: right;\n",
       "    }\n",
       "</style>\n",
       "<table border=\"1\" class=\"dataframe\">\n",
       "  <thead>\n",
       "    <tr style=\"text-align: right;\">\n",
       "      <th></th>\n",
       "      <th>1</th>\n",
       "      <th>2</th>\n",
       "      <th>3</th>\n",
       "      <th>4</th>\n",
       "      <th>5</th>\n",
       "      <th>6</th>\n",
       "      <th>7</th>\n",
       "      <th>8</th>\n",
       "      <th>9</th>\n",
       "      <th>10</th>\n",
       "    </tr>\n",
       "    <tr>\n",
       "      <th>Date</th>\n",
       "      <th></th>\n",
       "      <th></th>\n",
       "      <th></th>\n",
       "      <th></th>\n",
       "      <th></th>\n",
       "      <th></th>\n",
       "      <th></th>\n",
       "      <th></th>\n",
       "      <th></th>\n",
       "      <th></th>\n",
       "    </tr>\n",
       "  </thead>\n",
       "  <tbody>\n",
       "    <tr>\n",
       "      <th>1928-01-16</th>\n",
       "      <td>-0.016773</td>\n",
       "      <td>-0.010411</td>\n",
       "      <td>-0.003470</td>\n",
       "      <td>-0.004627</td>\n",
       "      <td>-0.012146</td>\n",
       "      <td>-0.021400</td>\n",
       "      <td>-0.015037</td>\n",
       "      <td>-0.024870</td>\n",
       "      <td>-0.027183</td>\n",
       "      <td>-0.021400</td>\n",
       "    </tr>\n",
       "    <tr>\n",
       "      <th>1928-01-17</th>\n",
       "      <td>0.000578</td>\n",
       "      <td>-0.016185</td>\n",
       "      <td>-0.009827</td>\n",
       "      <td>-0.002890</td>\n",
       "      <td>-0.004046</td>\n",
       "      <td>-0.011561</td>\n",
       "      <td>-0.020809</td>\n",
       "      <td>-0.014451</td>\n",
       "      <td>-0.024277</td>\n",
       "      <td>-0.026590</td>\n",
       "    </tr>\n",
       "    <tr>\n",
       "      <th>1928-01-18</th>\n",
       "      <td>-0.002317</td>\n",
       "      <td>-0.001738</td>\n",
       "      <td>-0.018540</td>\n",
       "      <td>-0.012167</td>\n",
       "      <td>-0.005214</td>\n",
       "      <td>-0.006373</td>\n",
       "      <td>-0.013905</td>\n",
       "      <td>-0.023175</td>\n",
       "      <td>-0.016802</td>\n",
       "      <td>-0.026651</td>\n",
       "    </tr>\n",
       "    <tr>\n",
       "      <th>1928-01-19</th>\n",
       "      <td>0.006904</td>\n",
       "      <td>0.004603</td>\n",
       "      <td>0.005178</td>\n",
       "      <td>-0.011508</td>\n",
       "      <td>-0.005178</td>\n",
       "      <td>0.001726</td>\n",
       "      <td>0.000575</td>\n",
       "      <td>-0.006905</td>\n",
       "      <td>-0.016111</td>\n",
       "      <td>-0.009781</td>\n",
       "    </tr>\n",
       "    <tr>\n",
       "      <th>1928-01-20</th>\n",
       "      <td>0.005721</td>\n",
       "      <td>0.012586</td>\n",
       "      <td>0.010298</td>\n",
       "      <td>0.010870</td>\n",
       "      <td>-0.005721</td>\n",
       "      <td>0.000572</td>\n",
       "      <td>0.007437</td>\n",
       "      <td>0.006293</td>\n",
       "      <td>-0.001144</td>\n",
       "      <td>-0.010297</td>\n",
       "    </tr>\n",
       "    <tr>\n",
       "      <th>...</th>\n",
       "      <td>...</td>\n",
       "      <td>...</td>\n",
       "      <td>...</td>\n",
       "      <td>...</td>\n",
       "      <td>...</td>\n",
       "      <td>...</td>\n",
       "      <td>...</td>\n",
       "      <td>...</td>\n",
       "      <td>...</td>\n",
       "      <td>...</td>\n",
       "    </tr>\n",
       "    <tr>\n",
       "      <th>2021-01-04</th>\n",
       "      <td>-0.014976</td>\n",
       "      <td>-0.008482</td>\n",
       "      <td>-0.007131</td>\n",
       "      <td>-0.009379</td>\n",
       "      <td>-0.000651</td>\n",
       "      <td>0.002875</td>\n",
       "      <td>0.003618</td>\n",
       "      <td>0.001548</td>\n",
       "      <td>-0.002367</td>\n",
       "      <td>-0.005899</td>\n",
       "    </tr>\n",
       "    <tr>\n",
       "      <th>2021-01-05</th>\n",
       "      <td>0.007033</td>\n",
       "      <td>-0.007838</td>\n",
       "      <td>-0.001390</td>\n",
       "      <td>-0.000048</td>\n",
       "      <td>-0.002281</td>\n",
       "      <td>0.006386</td>\n",
       "      <td>0.009888</td>\n",
       "      <td>0.010626</td>\n",
       "      <td>0.008570</td>\n",
       "      <td>0.004682</td>\n",
       "    </tr>\n",
       "    <tr>\n",
       "      <th>2021-01-06</th>\n",
       "      <td>0.005677</td>\n",
       "      <td>0.012670</td>\n",
       "      <td>-0.002116</td>\n",
       "      <td>0.004295</td>\n",
       "      <td>0.005629</td>\n",
       "      <td>0.003410</td>\n",
       "      <td>0.012027</td>\n",
       "      <td>0.015509</td>\n",
       "      <td>0.016243</td>\n",
       "      <td>0.014199</td>\n",
       "    </tr>\n",
       "    <tr>\n",
       "      <th>2021-01-07</th>\n",
       "      <td>0.014630</td>\n",
       "      <td>0.020225</td>\n",
       "      <td>0.027115</td>\n",
       "      <td>0.012545</td>\n",
       "      <td>0.018863</td>\n",
       "      <td>0.020177</td>\n",
       "      <td>0.017990</td>\n",
       "      <td>0.026481</td>\n",
       "      <td>0.029912</td>\n",
       "      <td>0.030635</td>\n",
       "    </tr>\n",
       "    <tr>\n",
       "      <th>2021-01-08</th>\n",
       "      <td>0.005462</td>\n",
       "      <td>0.020012</td>\n",
       "      <td>0.025576</td>\n",
       "      <td>0.032429</td>\n",
       "      <td>0.017939</td>\n",
       "      <td>0.024222</td>\n",
       "      <td>0.025529</td>\n",
       "      <td>0.023354</td>\n",
       "      <td>0.031799</td>\n",
       "      <td>0.035211</td>\n",
       "    </tr>\n",
       "  </tbody>\n",
       "</table>\n",
       "<p>23357 rows × 10 columns</p>\n",
       "</div>"
      ],
      "text/plain": [
       "                   1         2         3         4         5         6  \\\n",
       "Date                                                                     \n",
       "1928-01-16 -0.016773 -0.010411 -0.003470 -0.004627 -0.012146 -0.021400   \n",
       "1928-01-17  0.000578 -0.016185 -0.009827 -0.002890 -0.004046 -0.011561   \n",
       "1928-01-18 -0.002317 -0.001738 -0.018540 -0.012167 -0.005214 -0.006373   \n",
       "1928-01-19  0.006904  0.004603  0.005178 -0.011508 -0.005178  0.001726   \n",
       "1928-01-20  0.005721  0.012586  0.010298  0.010870 -0.005721  0.000572   \n",
       "...              ...       ...       ...       ...       ...       ...   \n",
       "2021-01-04 -0.014976 -0.008482 -0.007131 -0.009379 -0.000651  0.002875   \n",
       "2021-01-05  0.007033 -0.007838 -0.001390 -0.000048 -0.002281  0.006386   \n",
       "2021-01-06  0.005677  0.012670 -0.002116  0.004295  0.005629  0.003410   \n",
       "2021-01-07  0.014630  0.020225  0.027115  0.012545  0.018863  0.020177   \n",
       "2021-01-08  0.005462  0.020012  0.025576  0.032429  0.017939  0.024222   \n",
       "\n",
       "                   7         8         9        10  \n",
       "Date                                                \n",
       "1928-01-16 -0.015037 -0.024870 -0.027183 -0.021400  \n",
       "1928-01-17 -0.020809 -0.014451 -0.024277 -0.026590  \n",
       "1928-01-18 -0.013905 -0.023175 -0.016802 -0.026651  \n",
       "1928-01-19  0.000575 -0.006905 -0.016111 -0.009781  \n",
       "1928-01-20  0.007437  0.006293 -0.001144 -0.010297  \n",
       "...              ...       ...       ...       ...  \n",
       "2021-01-04  0.003618  0.001548 -0.002367 -0.005899  \n",
       "2021-01-05  0.009888  0.010626  0.008570  0.004682  \n",
       "2021-01-06  0.012027  0.015509  0.016243  0.014199  \n",
       "2021-01-07  0.017990  0.026481  0.029912  0.030635  \n",
       "2021-01-08  0.025529  0.023354  0.031799  0.035211  \n",
       "\n",
       "[23357 rows x 10 columns]"
      ]
     },
     "execution_count": 237,
     "metadata": {},
     "output_type": "execute_result"
    }
   ],
   "source": [
    "sp_shift"
   ]
  },
  {
   "cell_type": "code",
   "execution_count": 245,
   "metadata": {},
   "outputs": [
    {
     "data": {
      "image/png": "[encoded data removed]",
      "text/plain": [
       "<Figure size 432x288 with 1 Axes>"
      ]
     },
     "metadata": {
      "needs_background": "light"
     },
     "output_type": "display_data"
    }
   ],
   "source": [
    "sp_shift[\"1\"].plot();"
   ]
  },
  {
   "cell_type": "code",
   "execution_count": 276,
   "metadata": {},
   "outputs": [
    {
     "name": "stdout",
     "output_type": "stream",
     "text": [
      "probability of going above boundary:\n",
      "0.8854487838300787\n"
     ]
    },
    {
     "data": {
      "image/png": "[encoded data removed]",
      "text/plain": [
       "<Figure size 432x288 with 1 Axes>"
      ]
     },
     "metadata": {
      "needs_background": "light"
     },
     "output_type": "display_data"
    }
   ],
   "source": [
    "sp_pre_forecast = float(sp[-1:]) + sp_shift * float(sp[-1:])\n",
    "\n",
    "beyond_boundary = []\n",
    "#change beyond boundary list based on whether our boundry is \n",
    "#above or below the current index of the S&P 500\n",
    "if float(sp[-1:]) < boundary:\n",
    "    print(\"probability of going above boundary:\")\n",
    "    for i in range(len(sp_forecast)):\n",
    "        beyond_boundary.append(any(sp_forecast.iloc[i] > boundary)) \n",
    "else:\n",
    "    print(\"probability of going below boundary:\")\n",
    "    for i in range(len(sp_forecast)):\n",
    "        beyond_boundary.append(any(sp_forecast.iloc[i] < boundary))\n",
    "\n",
    "beyond_boundary = pd.Series(beyond_boundary)\n",
    "\n",
    "print(beyond_boundary.mean())\n",
    "\n",
    "beyond_boundary.rolling(window=365).mean().plot()\n",
    "axes = plt.gca()\n",
    "axes.set_ylim([0,1])\n",
    "plt.show()"
   ]
  },
  {
   "cell_type": "markdown",
   "metadata": {},
   "source": [
    "{{ To be precise, I computed the size of the gap between the current index and the boundary index (3900) as a percentage of the absolute index. I then looked at how often such a big gap had been exceeded in the past in the same number of days. | fndetail: 1 }}"
   ]
  },
  {
   "cell_type": "code",
   "execution_count": null,
   "metadata": {},
   "outputs": [],
   "source": []
  }
 ],
 "metadata": {
  "kernelspec": {
   "display_name": "Python 3",
   "language": "python",
   "name": "python3"
  },
  "language_info": {
   "codemirror_mode": {
    "name": "ipython",
    "version": 3
   },
   "file_extension": ".py",
   "mimetype": "text/x-python",
   "name": "python",
   "nbconvert_exporter": "python",
   "pygments_lexer": "ipython3",
   "version": "3.8.5"
  }
 },
 "nbformat": 4,
 "nbformat_minor": 4
}
