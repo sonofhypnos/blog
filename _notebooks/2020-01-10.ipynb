{
 "cells": [
  {
   "cell_type": "markdown",
   "metadata": {},
   "source": [
    "# \"Will the SP-500 fall to index X by date Y\"\n",
    "> \"Awesome summary\"\n",
    "\n",
    "- toc: true\n",
    "- branch: master\n",
    "- badges: true\n",
    "- comments: true\n",
    "- author: Tassilo Neubauer\n",
    "- categories: [prediction, python]"
   ]
  },
  {
   "cell_type": "markdown",
   "metadata": {},
   "source": [
    "\n",
    "So I occasionally try to make predictions on the [forecasting Site Almanis](https://app.dysruptlabs.com) and some of their questions that reocurr every month are of the format: By X (DATE), will the S&P 500 fall below Index? (give concrete instead of general example?)\n",
    "\n",
    "\n",
    "\n",
    "\n",
    "\n",
    "This notebook gives an answer to the question: What is the probability that the S&P 500 will exceed the index X within the next n days?\n",
    "\n",
    "For example what is the probability that the \n",
    "Of course this probability can't be taken to be exact. To be precise, I looked at how \n",
    "\n",
    "This was useful for betting on questions on the betting Platform Almanis. Since the site asks those questions every month, I started to do this little analysis."
   ]
  },
  {
   "cell_type": "markdown",
   "metadata": {},
   "source": [
    "First of all: I do not provide any financial advice here. This is just a short blogpost about a forecast I made recently\n",
    "\n",
    "So I occasionally try to make predictions on the [forecasting Site Almanis](https://app.dysruptlabs.com). Some monthly recurring questions there are of the format: By date_X, will the S&P 500 fall below Index_Y? \n",
    "\n",
    "To get a baseline for my predictions I made this notebook. The main reason why I publish this on my blog now, is that I want to get better at documenting and explaining it to others.\n",
    "\n",
    "So let's get started! To make this example more concrete we will ask the question: \"Will the S&P 500 go above 3900 by febuary 12th 2021?\""
   ]
  },
  {
   "cell_type": "markdown",
   "metadata": {},
   "source": [
    "When you want to make predictions, it is a good idea to look for how often something has occured in the past. When it comes to an index like the S&P 500 it makes sense to make some kind of statistical model to inform your forecast, because this will outperform any any forecast you are able to make with your intuition (here is a link to some sources I highly reccomend, if you want to learn more about forecasting). \n",
    "\n",
    "So first a bit about markets: If you are a layperson like me, you should not expect to find any investing strategy to reliably earn money from the market through active investing. There are some caveates to this, but this is not what I am here to explain, so I'll just give you an example of what I mean: You should not believe any model you make that predicts that the S&P will go up or down tomorrow with a probability of 90% (which is enough confidence to make money by buing and selling the index fund). You should be pretty \"humble\" in this case because there are bunch of firms employing people smarter and more knowlegdable about finance than you that are rewarded with any exploitable strategy they can find with a heap of money. This property is what people mean when they say a market is efficient. \n",
    "This is why we will assume for this model that the S&P 500 is a random walk, which means that daily pricechanges are independent of each other (Because any dependency in the price would be \"Free money\" that no one bothered to pick up which is unlikely\"). This is not entirely true. But is good enough for the rough model we are aiming for here.\n",
    "Because changes in a random walk are independent of each other means that the only information that we have about the future index is where the index stands right now.\n",
    "So when we want to answer the question whether the S&P 500 will exceed a certain index, we will look at the difference between the current index (3824,7) and the index that we want to know probability of exceedance of (3900).\n",
    "\n",
    "For example what is the probability that the \n",
    "Of course this probability can't be taken to be exact. To be precise, I looked at how \n",
    "\n",
    "This was useful for betting on questions on the betting Platform Almanis. Since the site asks those questions every month, I started to do this little analysis."
   ]
  },
  {
   "cell_type": "markdown",
   "metadata": {},
   "source": [
    "So first we import some standard libraries for data analysis"
   ]
  },
  {
   "cell_type": "markdown",
   "metadata": {},
   "source": [
    "If you want to look at this yourself, you can download the data here from X and here is my notebook"
   ]
  },
  {
   "cell_type": "code",
   "execution_count": 1,
   "metadata": {},
   "outputs": [],
   "source": [
    "import numpy as np\n",
    "import pandas as pd\n",
    "import matplotlib.pyplot as plt\n",
    "import seaborn as sns\n",
    "%matplotlib inline\n",
    "\n",
    "df = pd.read_csv(\"^GspC.csv\")\n"
   ]
  },
  {
   "cell_type": "code",
   "execution_count": 2,
   "metadata": {},
   "outputs": [
    {
     "data": {
      "text/html": [
       "<div>\n",
       "<style scoped>\n",
       "    .dataframe tbody tr th:only-of-type {\n",
       "        vertical-align: middle;\n",
       "    }\n",
       "\n",
       "    .dataframe tbody tr th {\n",
       "        vertical-align: top;\n",
       "    }\n",
       "\n",
       "    .dataframe thead th {\n",
       "        text-align: right;\n",
       "    }\n",
       "</style>\n",
       "<table border=\"1\" class=\"dataframe\">\n",
       "  <thead>\n",
       "    <tr style=\"text-align: right;\">\n",
       "      <th></th>\n",
       "      <th>Date</th>\n",
       "      <th>Open</th>\n",
       "      <th>High</th>\n",
       "      <th>Low</th>\n",
       "      <th>Close</th>\n",
       "      <th>Adj Close</th>\n",
       "      <th>Volume</th>\n",
       "    </tr>\n",
       "  </thead>\n",
       "  <tbody>\n",
       "    <tr>\n",
       "      <th>0</th>\n",
       "      <td>1927-12-30</td>\n",
       "      <td>17.660000</td>\n",
       "      <td>17.660000</td>\n",
       "      <td>17.660000</td>\n",
       "      <td>17.660000</td>\n",
       "      <td>17.660000</td>\n",
       "      <td>0</td>\n",
       "    </tr>\n",
       "    <tr>\n",
       "      <th>1</th>\n",
       "      <td>1928-01-03</td>\n",
       "      <td>17.760000</td>\n",
       "      <td>17.760000</td>\n",
       "      <td>17.760000</td>\n",
       "      <td>17.760000</td>\n",
       "      <td>17.760000</td>\n",
       "      <td>0</td>\n",
       "    </tr>\n",
       "    <tr>\n",
       "      <th>2</th>\n",
       "      <td>1928-01-04</td>\n",
       "      <td>17.719999</td>\n",
       "      <td>17.719999</td>\n",
       "      <td>17.719999</td>\n",
       "      <td>17.719999</td>\n",
       "      <td>17.719999</td>\n",
       "      <td>0</td>\n",
       "    </tr>\n",
       "    <tr>\n",
       "      <th>3</th>\n",
       "      <td>1928-01-05</td>\n",
       "      <td>17.549999</td>\n",
       "      <td>17.549999</td>\n",
       "      <td>17.549999</td>\n",
       "      <td>17.549999</td>\n",
       "      <td>17.549999</td>\n",
       "      <td>0</td>\n",
       "    </tr>\n",
       "    <tr>\n",
       "      <th>4</th>\n",
       "      <td>1928-01-06</td>\n",
       "      <td>17.660000</td>\n",
       "      <td>17.660000</td>\n",
       "      <td>17.660000</td>\n",
       "      <td>17.660000</td>\n",
       "      <td>17.660000</td>\n",
       "      <td>0</td>\n",
       "    </tr>\n",
       "  </tbody>\n",
       "</table>\n",
       "</div>"
      ],
      "text/plain": [
       "         Date       Open       High        Low      Close  Adj Close  Volume\n",
       "0  1927-12-30  17.660000  17.660000  17.660000  17.660000  17.660000       0\n",
       "1  1928-01-03  17.760000  17.760000  17.760000  17.760000  17.760000       0\n",
       "2  1928-01-04  17.719999  17.719999  17.719999  17.719999  17.719999       0\n",
       "3  1928-01-05  17.549999  17.549999  17.549999  17.549999  17.549999       0\n",
       "4  1928-01-06  17.660000  17.660000  17.660000  17.660000  17.660000       0"
      ]
     },
     "execution_count": 2,
     "metadata": {},
     "output_type": "execute_result"
    }
   ],
   "source": [
    "df.head()"
   ]
  },
  {
   "cell_type": "code",
   "execution_count": 3,
   "metadata": {},
   "outputs": [
    {
     "data": {
      "text/html": [
       "<div>\n",
       "<style scoped>\n",
       "    .dataframe tbody tr th:only-of-type {\n",
       "        vertical-align: middle;\n",
       "    }\n",
       "\n",
       "    .dataframe tbody tr th {\n",
       "        vertical-align: top;\n",
       "    }\n",
       "\n",
       "    .dataframe thead th {\n",
       "        text-align: right;\n",
       "    }\n",
       "</style>\n",
       "<table border=\"1\" class=\"dataframe\">\n",
       "  <thead>\n",
       "    <tr style=\"text-align: right;\">\n",
       "      <th></th>\n",
       "      <th>Date</th>\n",
       "      <th>Open</th>\n",
       "      <th>High</th>\n",
       "      <th>Low</th>\n",
       "      <th>Close</th>\n",
       "      <th>Adj Close</th>\n",
       "      <th>Volume</th>\n",
       "    </tr>\n",
       "  </thead>\n",
       "  <tbody>\n",
       "    <tr>\n",
       "      <th>23362</th>\n",
       "      <td>2021-01-04</td>\n",
       "      <td>3764.610107</td>\n",
       "      <td>3769.989990</td>\n",
       "      <td>3662.709961</td>\n",
       "      <td>3700.649902</td>\n",
       "      <td>3700.649902</td>\n",
       "      <td>5006680000</td>\n",
       "    </tr>\n",
       "    <tr>\n",
       "      <th>23363</th>\n",
       "      <td>2021-01-05</td>\n",
       "      <td>3698.020020</td>\n",
       "      <td>3737.830078</td>\n",
       "      <td>3695.070068</td>\n",
       "      <td>3726.860107</td>\n",
       "      <td>3726.860107</td>\n",
       "      <td>4582620000</td>\n",
       "    </tr>\n",
       "    <tr>\n",
       "      <th>23364</th>\n",
       "      <td>2021-01-06</td>\n",
       "      <td>3712.199951</td>\n",
       "      <td>3783.040039</td>\n",
       "      <td>3705.340088</td>\n",
       "      <td>3748.139893</td>\n",
       "      <td>3748.139893</td>\n",
       "      <td>6049970000</td>\n",
       "    </tr>\n",
       "    <tr>\n",
       "      <th>23365</th>\n",
       "      <td>2021-01-07</td>\n",
       "      <td>3764.709961</td>\n",
       "      <td>3811.550049</td>\n",
       "      <td>3764.709961</td>\n",
       "      <td>3803.790039</td>\n",
       "      <td>3803.790039</td>\n",
       "      <td>5080870000</td>\n",
       "    </tr>\n",
       "    <tr>\n",
       "      <th>23366</th>\n",
       "      <td>2021-01-08</td>\n",
       "      <td>3815.050049</td>\n",
       "      <td>3826.689941</td>\n",
       "      <td>3783.600098</td>\n",
       "      <td>3824.679932</td>\n",
       "      <td>3824.679932</td>\n",
       "      <td>4764180000</td>\n",
       "    </tr>\n",
       "  </tbody>\n",
       "</table>\n",
       "</div>"
      ],
      "text/plain": [
       "             Date         Open         High          Low        Close  \\\n",
       "23362  2021-01-04  3764.610107  3769.989990  3662.709961  3700.649902   \n",
       "23363  2021-01-05  3698.020020  3737.830078  3695.070068  3726.860107   \n",
       "23364  2021-01-06  3712.199951  3783.040039  3705.340088  3748.139893   \n",
       "23365  2021-01-07  3764.709961  3811.550049  3764.709961  3803.790039   \n",
       "23366  2021-01-08  3815.050049  3826.689941  3783.600098  3824.679932   \n",
       "\n",
       "         Adj Close      Volume  \n",
       "23362  3700.649902  5006680000  \n",
       "23363  3726.860107  4582620000  \n",
       "23364  3748.139893  6049970000  \n",
       "23365  3803.790039  5080870000  \n",
       "23366  3824.679932  4764180000  "
      ]
     },
     "execution_count": 3,
     "metadata": {},
     "output_type": "execute_result"
    }
   ],
   "source": [
    "df.tail()"
   ]
  },
  {
   "cell_type": "code",
   "execution_count": 4,
   "metadata": {},
   "outputs": [],
   "source": [
    "sp = df.Close"
   ]
  },
  {
   "cell_type": "code",
   "execution_count": 5,
   "metadata": {},
   "outputs": [
    {
     "data": {
      "text/plain": [
       "0    17.660000\n",
       "1    17.760000\n",
       "2    17.719999\n",
       "3    17.549999\n",
       "4    17.660000\n",
       "Name: Close, dtype: float64"
      ]
     },
     "execution_count": 5,
     "metadata": {},
     "output_type": "execute_result"
    }
   ],
   "source": [
    "sp.head()"
   ]
  },
  {
   "cell_type": "code",
   "execution_count": 16,
   "metadata": {},
   "outputs": [
    {
     "data": {
      "text/plain": [
       "<AxesSubplot:>"
      ]
     },
     "execution_count": 16,
     "metadata": {},
     "output_type": "execute_result"
    },
    {
     "data": {
      "image/png": "[encoded data removed]",
      "text/plain": [
       "<Figure size 432x288 with 1 Axes>"
      ]
     },
     "metadata": {
      "needs_background": "light"
     },
     "output_type": "display_data"
    }
   ],
   "source": [
    "sns.lineplot(x=sp.index, y=sp.values)"
   ]
  },
  {
   "cell_type": "markdown",
   "metadata": {},
   "source": [
    "As you can see from "
   ]
  },
  {
   "cell_type": "code",
   "execution_count": 96,
   "metadata": {},
   "outputs": [
    {
     "data": {
      "text/plain": [
       "<AxesSubplot:>"
      ]
     },
     "execution_count": 96,
     "metadata": {},
     "output_type": "execute_result"
    },
    {
     "data": {
      "image/png": "[encoded data removed]",
      "text/plain": [
       "<Figure size 432x288 with 1 Axes>"
      ]
     },
     "metadata": {
      "needs_background": "light"
     },
     "output_type": "display_data"
    }
   ],
   "source": [
    "sns.lineplot(x=sp.index[-500:], y=sp.values[-500:])"
   ]
  },
  {
   "cell_type": "markdown",
   "metadata": {},
   "source": [
    "Now we also use the index collumn from our initial dataframe."
   ]
  },
  {
   "cell_type": "code",
   "execution_count": 6,
   "metadata": {},
   "outputs": [],
   "source": [
    "sp.index = pd.to_datetime(df.Date)"
   ]
  },
  {
   "cell_type": "code",
   "execution_count": 7,
   "metadata": {},
   "outputs": [
    {
     "data": {
      "text/plain": [
       "Date\n",
       "1927-12-30    17.660000\n",
       "1928-01-03    17.760000\n",
       "1928-01-04    17.719999\n",
       "1928-01-05    17.549999\n",
       "1928-01-06    17.660000\n",
       "Name: Close, dtype: float64"
      ]
     },
     "execution_count": 7,
     "metadata": {},
     "output_type": "execute_result"
    }
   ],
   "source": [
    "sp.head()"
   ]
  },
  {
   "cell_type": "code",
   "execution_count": 8,
   "metadata": {},
   "outputs": [],
   "source": [
    "def shift_n_absolute(ts, n):\n",
    "    ts_shift = []\n",
    "    for i in range(1,n+1):\n",
    "        ts_shift.append((ts - ts.shift(periods=i))/ts)\n",
    "    return ts_shift\n",
    "\n",
    "def shift_n_absolute(ts, n):\n",
    "    ts_shift = []\n",
    "    for i in range(1,n+1):\n",
    "        ts_shift.append((ts - ts.shift(periods=i)))\n",
    "    return ts_shift"
   ]
  },
  {
   "cell_type": "code",
   "execution_count": 9,
   "metadata": {},
   "outputs": [
    {
     "data": {
      "text/plain": [
       "<AxesSubplot:xlabel='Date'>"
      ]
     },
     "execution_count": 9,
     "metadata": {},
     "output_type": "execute_result"
    },
    {
     "data": {
      "image/png": "[encoded data removed]",
      "text/plain": [
       "<Figure size 432x288 with 1 Axes>"
      ]
     },
     "metadata": {
      "needs_background": "light"
     },
     "output_type": "display_data"
    }
   ],
   "source": [
    "sns.lineplot(x=sp.index[-500:], y = sp.values[-500:])"
   ]
  },
  {
   "cell_type": "code",
   "execution_count": 10,
   "metadata": {},
   "outputs": [],
   "source": [
    "n = 15 # the number of days that the S&P has to stay within the boundary\n",
    "boundary = 3400\n",
    "#sp = sp[:-1] #remove close"
   ]
  },
  {
   "cell_type": "code",
   "execution_count": 11,
   "metadata": {},
   "outputs": [],
   "source": [
    "sp_shift = shift_n_absolute(sp, n)\n",
    "shift_index = [str(x) for x in range(1,n+1)]\n",
    "sp_shift = pd.DataFrame.from_dict(dict(zip(shift_index,sp_shift)))\n",
    "sp_shift = sp_shift[n:]"
   ]
  },
  {
   "cell_type": "code",
   "execution_count": 12,
   "metadata": {},
   "outputs": [
    {
     "data": {
      "text/html": [
       "<div>\n",
       "<style scoped>\n",
       "    .dataframe tbody tr th:only-of-type {\n",
       "        vertical-align: middle;\n",
       "    }\n",
       "\n",
       "    .dataframe tbody tr th {\n",
       "        vertical-align: top;\n",
       "    }\n",
       "\n",
       "    .dataframe thead th {\n",
       "        text-align: right;\n",
       "    }\n",
       "</style>\n",
       "<table border=\"1\" class=\"dataframe\">\n",
       "  <thead>\n",
       "    <tr style=\"text-align: right;\">\n",
       "      <th></th>\n",
       "      <th>1</th>\n",
       "      <th>2</th>\n",
       "      <th>3</th>\n",
       "      <th>4</th>\n",
       "      <th>5</th>\n",
       "      <th>6</th>\n",
       "      <th>7</th>\n",
       "      <th>8</th>\n",
       "      <th>9</th>\n",
       "      <th>10</th>\n",
       "      <th>11</th>\n",
       "      <th>12</th>\n",
       "      <th>13</th>\n",
       "      <th>14</th>\n",
       "      <th>15</th>\n",
       "    </tr>\n",
       "    <tr>\n",
       "      <th>Date</th>\n",
       "      <th></th>\n",
       "      <th></th>\n",
       "      <th></th>\n",
       "      <th></th>\n",
       "      <th></th>\n",
       "      <th></th>\n",
       "      <th></th>\n",
       "      <th></th>\n",
       "      <th></th>\n",
       "      <th></th>\n",
       "      <th></th>\n",
       "      <th></th>\n",
       "      <th></th>\n",
       "      <th></th>\n",
       "      <th></th>\n",
       "    </tr>\n",
       "  </thead>\n",
       "  <tbody>\n",
       "    <tr>\n",
       "      <th>1928-01-23</th>\n",
       "      <td>0.159999</td>\n",
       "      <td>0.260000</td>\n",
       "      <td>0.379999</td>\n",
       "      <td>0.340000</td>\n",
       "      <td>0.349998</td>\n",
       "      <td>0.059999</td>\n",
       "      <td>0.170000</td>\n",
       "      <td>0.289999</td>\n",
       "      <td>0.269998</td>\n",
       "      <td>0.139999</td>\n",
       "      <td>-0.020001</td>\n",
       "      <td>0.090000</td>\n",
       "      <td>-0.080000</td>\n",
       "      <td>-0.120001</td>\n",
       "      <td>-0.020001</td>\n",
       "    </tr>\n",
       "    <tr>\n",
       "      <th>1928-01-24</th>\n",
       "      <td>0.070000</td>\n",
       "      <td>0.229999</td>\n",
       "      <td>0.330000</td>\n",
       "      <td>0.449999</td>\n",
       "      <td>0.410000</td>\n",
       "      <td>0.419998</td>\n",
       "      <td>0.129999</td>\n",
       "      <td>0.240000</td>\n",
       "      <td>0.359999</td>\n",
       "      <td>0.339998</td>\n",
       "      <td>0.209999</td>\n",
       "      <td>0.049999</td>\n",
       "      <td>0.160000</td>\n",
       "      <td>-0.010000</td>\n",
       "      <td>-0.050001</td>\n",
       "    </tr>\n",
       "    <tr>\n",
       "      <th>1928-01-25</th>\n",
       "      <td>-0.189999</td>\n",
       "      <td>-0.119999</td>\n",
       "      <td>0.040000</td>\n",
       "      <td>0.140001</td>\n",
       "      <td>0.260000</td>\n",
       "      <td>0.220001</td>\n",
       "      <td>0.229999</td>\n",
       "      <td>-0.060000</td>\n",
       "      <td>0.050001</td>\n",
       "      <td>0.170000</td>\n",
       "      <td>0.149999</td>\n",
       "      <td>0.020000</td>\n",
       "      <td>-0.140000</td>\n",
       "      <td>-0.029999</td>\n",
       "      <td>-0.199999</td>\n",
       "    </tr>\n",
       "    <tr>\n",
       "      <th>1928-01-26</th>\n",
       "      <td>0.109999</td>\n",
       "      <td>-0.080000</td>\n",
       "      <td>-0.010000</td>\n",
       "      <td>0.149999</td>\n",
       "      <td>0.250000</td>\n",
       "      <td>0.369999</td>\n",
       "      <td>0.330000</td>\n",
       "      <td>0.339998</td>\n",
       "      <td>0.049999</td>\n",
       "      <td>0.160000</td>\n",
       "      <td>0.279999</td>\n",
       "      <td>0.259998</td>\n",
       "      <td>0.129999</td>\n",
       "      <td>-0.030001</td>\n",
       "      <td>0.080000</td>\n",
       "    </tr>\n",
       "    <tr>\n",
       "      <th>1928-01-27</th>\n",
       "      <td>0.060002</td>\n",
       "      <td>0.170001</td>\n",
       "      <td>-0.019998</td>\n",
       "      <td>0.050002</td>\n",
       "      <td>0.210001</td>\n",
       "      <td>0.310002</td>\n",
       "      <td>0.430001</td>\n",
       "      <td>0.390002</td>\n",
       "      <td>0.400000</td>\n",
       "      <td>0.110001</td>\n",
       "      <td>0.220002</td>\n",
       "      <td>0.340001</td>\n",
       "      <td>0.320000</td>\n",
       "      <td>0.190001</td>\n",
       "      <td>0.030001</td>\n",
       "    </tr>\n",
       "    <tr>\n",
       "      <th>...</th>\n",
       "      <td>...</td>\n",
       "      <td>...</td>\n",
       "      <td>...</td>\n",
       "      <td>...</td>\n",
       "      <td>...</td>\n",
       "      <td>...</td>\n",
       "      <td>...</td>\n",
       "      <td>...</td>\n",
       "      <td>...</td>\n",
       "      <td>...</td>\n",
       "      <td>...</td>\n",
       "      <td>...</td>\n",
       "      <td>...</td>\n",
       "      <td>...</td>\n",
       "      <td>...</td>\n",
       "    </tr>\n",
       "    <tr>\n",
       "      <th>2021-01-04</th>\n",
       "      <td>-55.420166</td>\n",
       "      <td>-31.390137</td>\n",
       "      <td>-26.390137</td>\n",
       "      <td>-34.710205</td>\n",
       "      <td>-2.410157</td>\n",
       "      <td>10.639892</td>\n",
       "      <td>13.389892</td>\n",
       "      <td>5.729980</td>\n",
       "      <td>-8.760010</td>\n",
       "      <td>-21.830078</td>\n",
       "      <td>-0.520020</td>\n",
       "      <td>6.029785</td>\n",
       "      <td>53.159912</td>\n",
       "      <td>37.189941</td>\n",
       "      <td>32.549804</td>\n",
       "    </tr>\n",
       "    <tr>\n",
       "      <th>2021-01-05</th>\n",
       "      <td>26.210205</td>\n",
       "      <td>-29.209961</td>\n",
       "      <td>-5.179932</td>\n",
       "      <td>-0.179932</td>\n",
       "      <td>-8.500000</td>\n",
       "      <td>23.800048</td>\n",
       "      <td>36.850097</td>\n",
       "      <td>39.600097</td>\n",
       "      <td>31.940185</td>\n",
       "      <td>17.450195</td>\n",
       "      <td>4.380127</td>\n",
       "      <td>25.690185</td>\n",
       "      <td>32.239990</td>\n",
       "      <td>79.370117</td>\n",
       "      <td>63.400146</td>\n",
       "    </tr>\n",
       "    <tr>\n",
       "      <th>2021-01-06</th>\n",
       "      <td>21.279786</td>\n",
       "      <td>47.489991</td>\n",
       "      <td>-7.930175</td>\n",
       "      <td>16.099854</td>\n",
       "      <td>21.099854</td>\n",
       "      <td>12.779786</td>\n",
       "      <td>45.079834</td>\n",
       "      <td>58.129883</td>\n",
       "      <td>60.879883</td>\n",
       "      <td>53.219971</td>\n",
       "      <td>38.729981</td>\n",
       "      <td>25.659913</td>\n",
       "      <td>46.969971</td>\n",
       "      <td>53.519776</td>\n",
       "      <td>100.649903</td>\n",
       "    </tr>\n",
       "    <tr>\n",
       "      <th>2021-01-07</th>\n",
       "      <td>55.650146</td>\n",
       "      <td>76.929932</td>\n",
       "      <td>103.140137</td>\n",
       "      <td>47.719971</td>\n",
       "      <td>71.750000</td>\n",
       "      <td>76.750000</td>\n",
       "      <td>68.429932</td>\n",
       "      <td>100.729980</td>\n",
       "      <td>113.780029</td>\n",
       "      <td>116.530029</td>\n",
       "      <td>108.870117</td>\n",
       "      <td>94.380127</td>\n",
       "      <td>81.310059</td>\n",
       "      <td>102.620117</td>\n",
       "      <td>109.169922</td>\n",
       "    </tr>\n",
       "    <tr>\n",
       "      <th>2021-01-08</th>\n",
       "      <td>20.889893</td>\n",
       "      <td>76.540039</td>\n",
       "      <td>97.819825</td>\n",
       "      <td>124.030030</td>\n",
       "      <td>68.609864</td>\n",
       "      <td>92.639893</td>\n",
       "      <td>97.639893</td>\n",
       "      <td>89.319825</td>\n",
       "      <td>121.619873</td>\n",
       "      <td>134.669922</td>\n",
       "      <td>137.419922</td>\n",
       "      <td>129.760010</td>\n",
       "      <td>115.270020</td>\n",
       "      <td>102.199952</td>\n",
       "      <td>123.510010</td>\n",
       "    </tr>\n",
       "  </tbody>\n",
       "</table>\n",
       "<p>23352 rows × 15 columns</p>\n",
       "</div>"
      ],
      "text/plain": [
       "                    1          2           3           4          5  \\\n",
       "Date                                                                  \n",
       "1928-01-23   0.159999   0.260000    0.379999    0.340000   0.349998   \n",
       "1928-01-24   0.070000   0.229999    0.330000    0.449999   0.410000   \n",
       "1928-01-25  -0.189999  -0.119999    0.040000    0.140001   0.260000   \n",
       "1928-01-26   0.109999  -0.080000   -0.010000    0.149999   0.250000   \n",
       "1928-01-27   0.060002   0.170001   -0.019998    0.050002   0.210001   \n",
       "...               ...        ...         ...         ...        ...   \n",
       "2021-01-04 -55.420166 -31.390137  -26.390137  -34.710205  -2.410157   \n",
       "2021-01-05  26.210205 -29.209961   -5.179932   -0.179932  -8.500000   \n",
       "2021-01-06  21.279786  47.489991   -7.930175   16.099854  21.099854   \n",
       "2021-01-07  55.650146  76.929932  103.140137   47.719971  71.750000   \n",
       "2021-01-08  20.889893  76.540039   97.819825  124.030030  68.609864   \n",
       "\n",
       "                    6          7           8           9          10  \\\n",
       "Date                                                                   \n",
       "1928-01-23   0.059999   0.170000    0.289999    0.269998    0.139999   \n",
       "1928-01-24   0.419998   0.129999    0.240000    0.359999    0.339998   \n",
       "1928-01-25   0.220001   0.229999   -0.060000    0.050001    0.170000   \n",
       "1928-01-26   0.369999   0.330000    0.339998    0.049999    0.160000   \n",
       "1928-01-27   0.310002   0.430001    0.390002    0.400000    0.110001   \n",
       "...               ...        ...         ...         ...         ...   \n",
       "2021-01-04  10.639892  13.389892    5.729980   -8.760010  -21.830078   \n",
       "2021-01-05  23.800048  36.850097   39.600097   31.940185   17.450195   \n",
       "2021-01-06  12.779786  45.079834   58.129883   60.879883   53.219971   \n",
       "2021-01-07  76.750000  68.429932  100.729980  113.780029  116.530029   \n",
       "2021-01-08  92.639893  97.639893   89.319825  121.619873  134.669922   \n",
       "\n",
       "                    11          12          13          14          15  \n",
       "Date                                                                    \n",
       "1928-01-23   -0.020001    0.090000   -0.080000   -0.120001   -0.020001  \n",
       "1928-01-24    0.209999    0.049999    0.160000   -0.010000   -0.050001  \n",
       "1928-01-25    0.149999    0.020000   -0.140000   -0.029999   -0.199999  \n",
       "1928-01-26    0.279999    0.259998    0.129999   -0.030001    0.080000  \n",
       "1928-01-27    0.220002    0.340001    0.320000    0.190001    0.030001  \n",
       "...                ...         ...         ...         ...         ...  \n",
       "2021-01-04   -0.520020    6.029785   53.159912   37.189941   32.549804  \n",
       "2021-01-05    4.380127   25.690185   32.239990   79.370117   63.400146  \n",
       "2021-01-06   38.729981   25.659913   46.969971   53.519776  100.649903  \n",
       "2021-01-07  108.870117   94.380127   81.310059  102.620117  109.169922  \n",
       "2021-01-08  137.419922  129.760010  115.270020  102.199952  123.510010  \n",
       "\n",
       "[23352 rows x 15 columns]"
      ]
     },
     "execution_count": 12,
     "metadata": {},
     "output_type": "execute_result"
    }
   ],
   "source": [
    "sp_shift"
   ]
  },
  {
   "cell_type": "code",
   "execution_count": 13,
   "metadata": {},
   "outputs": [
    {
     "data": {
      "text/plain": [
       "<AxesSubplot:xlabel='Date'>"
      ]
     },
     "execution_count": 13,
     "metadata": {},
     "output_type": "execute_result"
    },
    {
     "data": {
      "image/png": "[encoded data removed]",
      "text/plain": [
       "<Figure size 432x288 with 1 Axes>"
      ]
     },
     "metadata": {
      "needs_background": "light"
     },
     "output_type": "display_data"
    }
   ],
   "source": [
    "sp_shift[\"15\"].rolling(window=500).mean().plot()"
   ]
  },
  {
   "cell_type": "code",
   "execution_count": 14,
   "metadata": {},
   "outputs": [
    {
     "data": {
      "text/plain": [
       "Date\n",
       "2021-01-04    3700.649902\n",
       "2021-01-05    3726.860107\n",
       "2021-01-06    3748.139893\n",
       "2021-01-07    3803.790039\n",
       "2021-01-08    3824.679932\n",
       "Name: Close, dtype: float64"
      ]
     },
     "execution_count": 14,
     "metadata": {},
     "output_type": "execute_result"
    }
   ],
   "source": [
    "sp[-5:]"
   ]
  },
  {
   "cell_type": "code",
   "execution_count": 15,
   "metadata": {},
   "outputs": [],
   "source": [
    "sp_pre_forecast = float(sp[-1:]) + sp_shift * float(sp[-1:])"
   ]
  },
  {
   "cell_type": "code",
   "execution_count": 16,
   "metadata": {},
   "outputs": [],
   "source": [
    "# \"windows\" is the number of days we look back in time how values\n",
    "# were excedet in the past\n",
    "\n",
    "#windows = 350\n",
    "sp_forecast = sp_pre_forecast"
   ]
  },
  {
   "cell_type": "code",
   "execution_count": 17,
   "metadata": {},
   "outputs": [
    {
     "data": {
      "text/plain": [
       "3824.679932"
      ]
     },
     "execution_count": 17,
     "metadata": {},
     "output_type": "execute_result"
    }
   ],
   "source": [
    "float(sp[-1:])"
   ]
  },
  {
   "cell_type": "code",
   "execution_count": 18,
   "metadata": {},
   "outputs": [
    {
     "name": "stdout",
     "output_type": "stream",
     "text": [
      "probability of going below boundary\n",
      "0.72931654676259\n"
     ]
    },
    {
     "data": {
      "image/png": "[encoded data removed]",
      "text/plain": [
       "<Figure size 432x288 with 1 Axes>"
      ]
     },
     "metadata": {
      "needs_background": "light"
     },
     "output_type": "display_data"
    }
   ],
   "source": [
    "#computing the probability of exceeding \"boundry\"\n",
    "\n",
    "win = []\n",
    "if float(sp[-1:]) < boundary:\n",
    "    print(\"probability of going above boundary\")\n",
    "    for i in range(len(sp_forecast)):\n",
    "        win.append(any(sp_forecast.iloc[i] > boundary)) \n",
    "else:\n",
    "    print(\"probability of going below boundary\")\n",
    "    for i in range(len(sp_forecast)):\n",
    "        win.append(any(sp_forecast.iloc[i] < boundary))\n",
    "win = pd.Series(win)\n",
    "print(win.mean())\n",
    "win.rolling(window=30).mean().plot()\n",
    "axes = plt.gca()\n",
    "axes.set_ylim([0,1])\n",
    "plt.show()"
   ]
  },
  {
   "cell_type": "code",
   "execution_count": null,
   "metadata": {},
   "outputs": [],
   "source": []
  }
 ],
 "metadata": {
  "kernelspec": {
   "display_name": "Python 3",
   "language": "python",
   "name": "python3"
  },
  "language_info": {
   "codemirror_mode": {
    "name": "ipython",
    "version": 3
   },
   "file_extension": ".py",
   "mimetype": "text/x-python",
   "name": "python",
   "nbconvert_exporter": "python",
   "pygments_lexer": "ipython3",
   "version": "3.8.5"
  }
 },
 "nbformat": 4,
 "nbformat_minor": 4
}
