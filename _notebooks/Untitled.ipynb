{
 "cells": [
  {
   "cell_type": "code",
   "execution_count": 19,
   "id": "ea46c798-c623-496a-95c9-cde43db9e1c5",
   "metadata": {},
   "outputs": [],
   "source": [
    "import scipy.linalg as linalg\n",
    "import numpy as np"
   ]
  },
  {
   "cell_type": "code",
   "execution_count": 55,
   "id": "321b5466-2b60-44fb-b20a-284fef651f51",
   "metadata": {},
   "outputs": [],
   "source": [
    "a = np.array([[3/2, 1], [-1, 0]])"
   ]
  },
  {
   "cell_type": "code",
   "execution_count": 56,
   "id": "0e97814a-47d7-44fb-9fbf-80f592c54ed9",
   "metadata": {},
   "outputs": [],
   "source": [
    "u, p = linalg.polar(a)"
   ]
  },
  {
   "cell_type": "code",
   "execution_count": 57,
   "id": "bbddb68b-86d6-4639-80f1-8526570c17be",
   "metadata": {},
   "outputs": [
    {
     "data": {
      "text/plain": [
       "array([[ 3.25, -1.5 ],\n",
       "       [-1.5 ,  1.  ]])"
      ]
     },
     "execution_count": 57,
     "metadata": {},
     "output_type": "execute_result"
    }
   ],
   "source": [
    "np.matmul(a,a.T)"
   ]
  },
  {
   "cell_type": "code",
   "execution_count": 58,
   "id": "d44da4f6-d245-4607-ab1f-9b6a0ee9ad2a",
   "metadata": {},
   "outputs": [
    {
     "data": {
      "text/plain": [
       "array([[3.25, 1.5 ],\n",
       "       [1.5 , 1.  ]])"
      ]
     },
     "execution_count": 58,
     "metadata": {},
     "output_type": "execute_result"
    }
   ],
   "source": [
    "\n",
    "np.matmul(a.T,a)"
   ]
  },
  {
   "cell_type": "code",
   "execution_count": 53,
   "id": "ed5ac49d-e1ac-41e9-9679-403d3e995af6",
   "metadata": {},
   "outputs": [
    {
     "data": {
      "text/plain": [
       "array([[0., 1.],\n",
       "       [1., 0.]])"
      ]
     },
     "execution_count": 53,
     "metadata": {},
     "output_type": "execute_result"
    }
   ],
   "source": [
    "u"
   ]
  },
  {
   "cell_type": "code",
   "execution_count": 16,
   "id": "0f4c00f9-66bc-4106-9435-c6301eed95b6",
   "metadata": {},
   "outputs": [
    {
     "data": {
      "text/plain": [
       "array([[1.7, 0.6],\n",
       "       [0.6, 0.8]])"
      ]
     },
     "execution_count": 16,
     "metadata": {},
     "output_type": "execute_result"
    }
   ],
   "source": [
    "p"
   ]
  },
  {
   "cell_type": "code",
   "execution_count": 18,
   "id": "7f19aaea-0107-4903-9d2c-a1b091d01bcd",
   "metadata": {},
   "outputs": [
    {
     "data": {
      "text/plain": [
       "array([[2.25, 1.  ],\n",
       "       [1.  , 0.  ]])"
      ]
     },
     "execution_count": 18,
     "metadata": {},
     "output_type": "execute_result"
    }
   ],
   "source": [
    "a * a"
   ]
  }
 ],
 "metadata": {
  "kernelspec": {
   "display_name": "Python 3 (ipykernel)",
   "language": "python",
   "name": "python3"
  },
  "language_info": {
   "codemirror_mode": {
    "name": "ipython",
    "version": 3
   },
   "file_extension": ".py",
   "mimetype": "text/x-python",
   "name": "python",
   "nbconvert_exporter": "python",
   "pygments_lexer": "ipython3",
   "version": "3.9.5"
  }
 },
 "nbformat": 4,
 "nbformat_minor": 5
}
